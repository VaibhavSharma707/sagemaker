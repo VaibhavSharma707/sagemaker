{
 "cells": [
  {
   "cell_type": "markdown",
   "id": "2733cf74",
   "metadata": {},
   "source": [
    "```\n",
    "AgoraService (48kHz Float32Array)\n",
    "    ↓\n",
    "WhisperTranscriptionService (format conversion)\n",
    "    ↓\n",
    "WebSocket → NestJS TranscriptionGateway\n",
    "    ↓\n",
    "NestJS TranscriptionService (buffering & session management)\n",
    "    ↓\n",
    "HTTP → Python FastAPI (model inference)\n",
    "    ↓\n",
    "Python returns transcription results\n",
    "    ↓\n",
    "NestJS aggregates and sends to frontend\n",
    "    ↓\n",
    "TranscriptionDisplay updates UI\n",
    "```"
   ]
  },
  {
   "cell_type": "markdown",
   "id": "5aba2dbc",
   "metadata": {},
   "source": [
    "## Architecture\n",
    "\n",
    "```\n",
    "┌─────────────────┐    HTTP/JSON    ┌──────────────────┐\n",
    "│   Frontend      │ ──────────────► │  Python FastAPI  │\n",
    "│   (React)       │                 │     Server       │\n",
    "└─────────────────┘                 └──────────────────┘\n",
    "                                              │\n",
    "                                              ▼\n",
    "                                    ┌──────────────────┐\n",
    "                                    │  Whisper Model   │\n",
    "                                    │  (Medical v2)    │\n",
    "                                    └──────────────────┘\n",
    "```"
   ]
  },
  {
   "cell_type": "markdown",
   "id": "7dd29a3b",
   "metadata": {},
   "source": [
    "## **📊 Flow Diagram**\n",
    "\n",
    "```\n",
    "Frontend (React)                    NestJS Backend                    Whisper Service (Python)\n",
    "     │                                    │                                │\n",
    "     │ 1. POST /transcribe               │                                │\n",
    "     │    {audio_data, sessionId}        │                                │\n",
    "     │ ──────────────────────────────────▶│                                │\n",
    "     │                                    │                                │\n",
    "     │ 2. Immediate Response              │                                │\n",
    "     │    {transcriptionId, status}       │                                │\n",
    "     │ ◀──────────────────────────────────│                                │\n",
    "     │                                    │                                │\n",
    "     │                                    │ 3. Background Processing        │\n",
    "     │                                    │ ──────────────────────────────▶│\n",
    "     │                                    │                                │\n",
    "     │                                    │ 4. Whisper Processing           │\n",
    "     │                                    │    (1-3 seconds)               │\n",
    "     │                                    │                                │\n",
    "     │                                    │ 5. Return Transcription        │\n",
    "     │                                    │ ◀──────────────────────────────│\n",
    "     │                                    │                                │\n",
    "     │ 6. WebSocket: transcription:status │                                │\n",
    "     │ ◀──────────────────────────────────│                                │\n",
    "     │                                    │                                │\n",
    "     │ 7. WebSocket: transcription:result │                                │\n",
    "     │ ◀──────────────────────────────────│                                │\n",
    "     │                                    │                                │\n",
    "     │ 8. GET /transcriptions/{id}        │                                │\n",
    "     │    (optional - for history)        │                                │\n",
    "     │ ──────────────────────────────────▶│                                │\n",
    "     │                                    │                                │\n",
    "     │ 9. Database Response               │                                │\n",
    "     │ ◀──────────────────────────────────│                                │\n",
    "```\n"
   ]
  },
  {
   "cell_type": "markdown",
   "id": "e263ef7e",
   "metadata": {},
   "source": []
  }
 ],
 "metadata": {
  "language_info": {
   "name": "python"
  }
 },
 "nbformat": 4,
 "nbformat_minor": 5
}
