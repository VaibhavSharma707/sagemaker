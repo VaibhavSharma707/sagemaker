{
  "nbformat": 4,
  "nbformat_minor": 0,
  "metadata": {
    "colab": {
      "provenance": []
    },
    "kernelspec": {
      "name": "python3",
      "display_name": "Python 3"
    },
    "language_info": {
      "name": "python"
    }
  },
  "cells": [
    {
      "cell_type": "markdown",
      "source": [
        "# This is the orchestrator.ipynb file\n"
      ],
      "metadata": {
        "id": "8z02SZbDHEm3"
      }
    },
    {
      "cell_type": "code",
      "source": [],
      "metadata": {
        "id": "J8rL2_gzHKLc"
      },
      "execution_count": null,
      "outputs": []
    }
  ]
}